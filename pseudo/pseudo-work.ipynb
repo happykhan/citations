{
 "cells": [
  {
   "cell_type": "markdown",
   "metadata": {},
   "source": [
    "# Pseudo gene detection test \n",
    "\n",
    "Software: https://github.com/filip-husnik/pseudofinder \n",
    "\n",
    "Install via https://github.com/filip-husnik/pseudofinder/wiki/2.-Installing-Pseudofinder#easy-installation \n",
    "\n",
    "I had to modify the setup.sh to the following:\n",
    "\n",
    "```bash\n",
    "#!/usr/bin/env bash\n",
    "\n",
    "# setting colors to use\n",
    "GREEN='\\033[0;32m'\n",
    "RED='\\033[0;31m'\n",
    "NC='\\033[0m'\n",
    "PATH_TO_PSEUDOFINDER=`dirname $0`\n",
    "\n",
    "printf \"\\n    ${GREEN}Setting up conda environment...${NC}\\n\\n\"\n",
    "\n",
    "chmod +x $PATH_TO_PSEUDOFINDER/pseudofinder.py\n",
    "\n",
    "## creating environment and installing dependencies\n",
    "mamba env create --file $PATH_TO_PSEUDOFINDER/modules/environment.yml \n",
    "\n",
    "## activating environment\n",
    "source activate pseudofinder\n",
    "\n",
    "## creating directory for conda-env-specific source files\n",
    "mkdir -p ${CONDA_PREFIX}/etc/conda/activate.d\n",
    "\n",
    "## adding codeml-2.ctl file path:\n",
    "echo '#!/bin/sh'\" \\\n",
    "\n",
    "export PATH=\\\"$(pwd):\"'$PATH'\\\"\" \\\n",
    "\n",
    "export ctl=\\\"$(pwd)/codeml-2.ctl\\\"\" >> ${CONDA_PREFIX}/etc/conda/activate.d/env_vars.sh\n",
    "\n",
    "# re-activating environment so variable and PATH changes take effect\n",
    "source activate pseudofinder\n",
    "\n",
    "printf \"\\n        ${GREEN}DONE!${NC}\\n\\n\"\n",
    "\n",
    "# to reset:\n",
    "# conda env remove --name pseudofinder\n",
    "```\n",
    "\n",
    "*This really should just be in Bioconda* \n",
    "\n",
    "\n",
    "## Getting started\n",
    "\n",
    "This program needs you to give it a database of true genes (as amino acid) to compare with. I am using the wgMLST gene panel from Enterobase.\n",
    "\n",
    "```\n",
    "wget https://enterobase.warwick.ac.uk/schemes/Salmonella.wgMLST/exemplar.alleles.fasta.gz \n",
    "```\n",
    "\n",
    "These are in nucleotide, so we must convert nuc to aa. "
   ]
  },
  {
   "cell_type": "code",
   "execution_count": 1,
   "metadata": {
    "vscode": {
     "languageId": "plaintext"
    }
   },
   "outputs": [
    {
     "name": "stdout",
     "output_type": "stream",
     "text": [
      "Could not translate 1596 seqs \n"
     ]
    }
   ],
   "source": [
    "from Bio import SeqIO, Seq\n",
    "import gzip \n",
    "from Bio.Data.CodonTable import TranslationError \n",
    "\n",
    "gfile = gzip.open(\"exemplar.alleles.fasta.gz\", \"rt\")\n",
    "\n",
    "out_file = open('sal_alleles.faa', 'w') \n",
    "\n",
    "\n",
    "number_skip = 0 \n",
    "for record in SeqIO.parse(gfile, 'fasta'):\n",
    "    try:\n",
    "        record.seq = record.seq.translate(cds=True)\n",
    "        out_file.write(record.format(\"fasta\"))        \n",
    "    except TranslationError:\n",
    "        number_skip += 1\n",
    "print(f'Could not translate {number_skip} seqs ')\n",
    "        \n"
   ]
  },
  {
   "cell_type": "code",
   "execution_count": 2,
   "metadata": {},
   "outputs": [
    {
     "name": "stdout",
     "output_type": "stream",
     "text": [
      ">STMMW_00651_1\n",
      "MHEAQIRVAIAGAGGRMGRQLIQAAMAMEGVQLGAALEREGSSLLGSDAGELAGAGKSGV\n",
      "IVQSSLEAVKDDFDVFIDFTRPEGTLTHLAFCRQHGKGMVIGTTGFDDAGKQAIREASQE\n",
      "IAIVFAANFSVGVNVMLKLLEKAAKVMGDYSDIEIIEAHHRHKVDAPSGTALAMGEAIAG\n",
      "ALDKNLKDCAVYSREGYTGERVAGTIGFATVRAGDIVGEHTAMFADIGERVEITHKASSR\n",
      "MTFANGALRSALWLKTKKNGLFDMRDVLGLDVL\n",
      ">STMMW_00121_1\n",
      "MAKRDYYEILGVSKTAEEREIKKAYKRLAMKYHPDRNQGDKEAEAKFKEIKEAYEVLTDA\n",
      "QKRAAYDQYGHAAFEQGGMGGGFGGGFNGGADFSDIFGDVFGDIFGGGRGRQRAARGADL\n",
      "RYNMDLTLEEAVRGVTKEIRIPTLEECDVCHGSGAKAGTQPQTCPTCHGSGQVQMRQGFF\n",
      "QDALAILRNKLVVREHYLPCVLFGDDAPTEFTVGPVTFTQNAMFFRDKKSVFRHSVDINT\n",
      "NAHIKSVTSAITQGFFRENVPTPDESRKFVGEFQKRAIKIYKDYPWVASIKVTDCDEVTS\n",
      "QERAIQATELAIHIIRILLGAEPTRKIRLAWSRSNALNTAHLYSDADGVIHASVGANSLG\n",
      "PVGIINWYKALMKCDLELEILGSALLPIVNPIETNHLHQRLIDAINWFGDAATDSNPSSS\n",
      "IVKYVSAIERLFFGKFESGRTKVFAGRIKYILDAFGCDGDHQVYDQALKVYRARSILVHG\n",
      "EIYQTEDEANESICLASSLSRMCLLCSAQLYSMMQNAFDNPDALALEEIMKRIGAEGLDW\n",
      "LVDAAGFHK\n",
      ">ZV79_RS12785_1\n",
      "MKVETISYVKKNAATLDLSEPILVTQNGVPAYVIESYDQQQERENAIALLKLLTLSEKDK\n",
      "AEGRVFSKDQLLDSLED\n",
      "19466\n"
     ]
    }
   ],
   "source": [
    "!head sal_alleles.faa\n",
    "!tail sal_alleles.faa\n",
    "!cat  sal_alleles.faa | grep '>' | wc -l "
   ]
  },
  {
   "cell_type": "markdown",
   "metadata": {},
   "source": [
    "This needs to be made into a BLAST database."
   ]
  },
  {
   "cell_type": "code",
   "execution_count": 3,
   "metadata": {},
   "outputs": [
    {
     "name": "stdout",
     "output_type": "stream",
     "text": [
      "\n",
      "\n",
      "Building a new DB, current time: 07/12/2022 23:26:26\n",
      "New DB name:   /home/ubuntu/code/journal/pseudo/sal_alleles.faa\n",
      "New DB title:  sal_alleles.faa\n",
      "Sequence type: Protein\n",
      "Deleted existing Protein BLAST database named /home/ubuntu/code/journal/pseudo/sal_alleles.faa\n",
      "Keep MBits: T\n",
      "Maximum file size: 1000000000B\n",
      "Adding sequences from FASTA; added 19466 sequences in 0.479658 seconds.\n",
      "\n",
      "\n"
     ]
    }
   ],
   "source": [
    "!makeblastdb -in sal_alleles.faa -dbtype prot"
   ]
  },
  {
   "cell_type": "markdown",
   "metadata": {},
   "source": [
    "We also need a genome to query. I selected a random Typhi genome from EnteroBase (SAL_XA0264AA_AS) using the pregenerated annotation (gbk).  As a reference I used a Paratyphi (SAL_XA0359AA_AS). \n",
    "\n",
    "# Running pseudofinder\n",
    "\n"
   ]
  },
  {
   "cell_type": "code",
   "execution_count": null,
   "metadata": {},
   "outputs": [
    {
     "name": "stdout",
     "output_type": "stream",
     "text": [
      "\u001b[1m2022-07-12 23:26:30\u001b[0m\tCDS extracted from:\t\t\tSAL_XA0264AA_AS.Typhi.gbk\n",
      "\t\t\tWritten to file:\t\t\tfast_test_cds.fasta.\n",
      "\u001b[1m2022-07-12 23:26:30\u001b[0m\tIntergenic regions extracted from:\tSAL_XA0264AA_AS.Typhi.gbk\n",
      "\t\t\tWritten to file:\t\t\tfast_test_intergenic.fasta.\n",
      "\u001b[1m2022-07-12 23:26:30\u001b[0m\tblastp executed with 4 threads on fast_test_proteome.faa.\n",
      "\u001b[1m2022-07-12 23:27:48\u001b[0m\tblastx executed with 4 threads on fast_test_intergenic.fasta.\n",
      "\u001b[1m2022-07-12 23:28:12\u001b[0m\tStarting Sleuth...\n",
      "\u001b[1m2022-07-12 23:28:14\u001b[0m\tRunning BLAST...\n",
      "\u001b[1m2022-07-12 23:28:15\u001b[0m\tDone with BLAST.\n",
      "\u001b[1m2022-07-12 23:28:16\u001b[0m\tStarting Muscle.\n",
      "2022-07-12 23:28:41\tRunning Muscle: 15%\r"
     ]
    }
   ],
   "source": [
    "!pseudofinder/pseudofinder.py annotate -g SAL_XA0264AA_AS.Typhi.gbk --reference SAL_XA0359AA_AS.Paratyphi.gbk  -db sal_alleles.faa -op fast_test "
   ]
  },
  {
   "cell_type": "code",
   "execution_count": null,
   "metadata": {},
   "outputs": [],
   "source": [
    "!ls"
   ]
  },
  {
   "cell_type": "code",
   "execution_count": null,
   "metadata": {},
   "outputs": [],
   "source": [
    "pseudofinder.py sleuth -a GENOME_PROTS -n GENOME_GENES -ra REFERENCE-PROTS -rn REFERENCE_GENES\n"
   ]
  }
 ],
 "metadata": {
  "kernelspec": {
   "display_name": "Python 3 (ipykernel)",
   "language": "python",
   "name": "python3"
  },
  "language_info": {
   "codemirror_mode": {
    "name": "ipython",
    "version": 3
   },
   "file_extension": ".py",
   "mimetype": "text/x-python",
   "name": "python",
   "nbconvert_exporter": "python",
   "pygments_lexer": "ipython3",
   "version": "3.10.2"
  }
 },
 "nbformat": 4,
 "nbformat_minor": 2
}
