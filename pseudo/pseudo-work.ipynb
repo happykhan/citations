{
 "cells": [
  {
   "cell_type": "markdown",
   "metadata": {},
   "source": [
    "# Pseudo gene detection test \n",
    "\n",
    "Software: https://github.com/filip-husnik/pseudofinder \n",
    "\n",
    "Install via https://github.com/filip-husnik/pseudofinder/wiki/2.-Installing-Pseudofinder#easy-installation \n",
    "\n",
    "I had to modify the setup.sh to the following:\n",
    "\n",
    "```bash\n",
    "#!/usr/bin/env bash\n",
    "\n",
    "# setting colors to use\n",
    "GREEN='\\033[0;32m'\n",
    "RED='\\033[0;31m'\n",
    "NC='\\033[0m'\n",
    "PATH_TO_PSEUDOFINDER=`dirname $0`\n",
    "\n",
    "printf \"\\n    ${GREEN}Setting up conda environment...${NC}\\n\\n\"\n",
    "\n",
    "chmod +x $PATH_TO_PSEUDOFINDER/pseudofinder.py\n",
    "\n",
    "## creating environment and installing dependencies\n",
    "mamba env create --file $PATH_TO_PSEUDOFINDER/modules/environment.yml \n",
    "\n",
    "## activating environment\n",
    "source activate pseudofinder\n",
    "\n",
    "## creating directory for conda-env-specific source files\n",
    "mkdir -p ${CONDA_PREFIX}/etc/conda/activate.d\n",
    "\n",
    "## adding codeml-2.ctl file path:\n",
    "echo '#!/bin/sh'\" \\\n",
    "\n",
    "export PATH=\\\"$(pwd):\"'$PATH'\\\"\" \\\n",
    "\n",
    "export ctl=\\\"$(pwd)/codeml-2.ctl\\\"\" >> ${CONDA_PREFIX}/etc/conda/activate.d/env_vars.sh\n",
    "\n",
    "# re-activating environment so variable and PATH changes take effect\n",
    "source activate pseudofinder\n",
    "\n",
    "printf \"\\n        ${GREEN}DONE!${NC}\\n\\n\"\n",
    "\n",
    "# to reset:\n",
    "# conda env remove --name pseudofinder\n",
    "```\n",
    "\n",
    "*This really should just be in Bioconda* \n",
    "\n",
    "\n",
    "## Getting started\n",
    "\n",
    "This program needs you to give it a database of true genes (as amino acid) to compare with. I am using the wgMLST gene panel from Enterobase.\n",
    "\n",
    "```\n",
    "wget https://enterobase.warwick.ac.uk/schemes/Salmonella.wgMLST/exemplar.alleles.fasta.gz \n",
    "```\n",
    "\n",
    "These are in nucleotide, so we must convert nuc to aa. "
   ]
  },
  {
   "cell_type": "code",
   "execution_count": null,
   "metadata": {
    "vscode": {
     "languageId": "plaintext"
    }
   },
   "outputs": [],
   "source": [
    "from Bio import SeqIO, Seq\n",
    "import gzip \n",
    "from Bio.Data.CodonTable import TranslationError \n",
    "\n",
    "gfile = gzip.open(\"exemplar.alleles.fasta.gz\", \"rt\")\n",
    "\n",
    "out_file = open('sal_alleles.faa', 'w') \n",
    "\n",
    "\n",
    "number_skip = 0 \n",
    "for record in SeqIO.parse(gfile, 'fasta'):\n",
    "    try:\n",
    "        record.seq = record.seq.translate(cds=True)\n",
    "        out_file.write(record.format(\"fasta\"))        \n",
    "    except TranslationError:\n",
    "        number_skip += 1\n",
    "print(f'Could not translate {number_skip} seqs ')\n",
    "        \n"
   ]
  },
  {
   "cell_type": "code",
   "execution_count": null,
   "metadata": {},
   "outputs": [],
   "source": [
    "!head sal_alleles.faa\n",
    "!tail sal_alleles.faa\n",
    "!cat  sal_alleles.faa | grep '>' | wc -l "
   ]
  },
  {
   "cell_type": "markdown",
   "metadata": {},
   "source": [
    "This needs to be made into a BLAST database."
   ]
  },
  {
   "cell_type": "code",
   "execution_count": null,
   "metadata": {},
   "outputs": [],
   "source": [
    "!makeblastdb -in sal_alleles.faa -dbtype prot"
   ]
  },
  {
   "cell_type": "markdown",
   "metadata": {},
   "source": [
    "We also need a genome to query. I selected a random genome from EnteroBase (SAL_VC3907AA_AS) using the pregenerated annotation (gbk). \n",
    "\n",
    "# Running pseudofinder\n",
    "\n"
   ]
  },
  {
   "cell_type": "code",
   "execution_count": 1,
   "metadata": {},
   "outputs": [
    {
     "name": "stdout",
     "output_type": "stream",
     "text": [
      "/bin/bash: pseudofinder.py: command not found\r\n"
     ]
    }
   ],
   "source": [
    "!pseudofinder.py annotate -g SAL_XA0264AA_AS.Typhi.gbk --reference SAL_XA0359AA_AS.Paratyphi.gbk  -db sal_alleles.faa -op test "
   ]
  },
  {
   "cell_type": "code",
   "execution_count": null,
   "metadata": {},
   "outputs": [],
   "source": [
    "!ls"
   ]
  },
  {
   "cell_type": "code",
   "execution_count": null,
   "metadata": {},
   "outputs": [],
   "source": [
    "pseudofinder.py sleuth -a GENOME_PROTS -n GENOME_GENES -ra REFERENCE-PROTS -rn REFERENCE_GENES\n"
   ]
  }
 ],
 "metadata": {
  "kernelspec": {
   "display_name": "Python 3 (ipykernel)",
   "language": "python",
   "name": "python3"
  },
  "language_info": {
   "codemirror_mode": {
    "name": "ipython",
    "version": 3
   },
   "file_extension": ".py",
   "mimetype": "text/x-python",
   "name": "python",
   "nbconvert_exporter": "python",
   "pygments_lexer": "ipython3",
   "version": "3.10.2"
  }
 },
 "nbformat": 4,
 "nbformat_minor": 2
}
