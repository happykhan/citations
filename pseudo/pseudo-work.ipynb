{
 "cells": [
  {
   "cell_type": "markdown",
   "metadata": {},
   "source": [
    "# Pseudogene detection test \n",
    "\n",
    "`Pseudofinder` looks like a useful tool for finding pseudogenes. Not only does it look for obvious features like truncated CDS (when compared to a reference), but it also using `codeml/paml` to look for genes under selection (dn/ds) as a feature. \n",
    "\n",
    "Overall the software isn't too bad, but needs some quality of life adjustments. \n",
    "\n",
    "Software: https://github.com/filip-husnik/pseudofinder \n",
    "\n",
    "Install via https://github.com/filip-husnik/pseudofinder/wiki/2.-Installing-Pseudofinder#easy-installation \n",
    "\n",
    "\n",
    "I had to modify the setup.sh work for me:\n",
    "\n",
    "* using mamba instead of conda for setting up the enviroment. \n",
    "* I had to manually run the second part of adding codeml-2.ctl to the path. see snippet from `setup.sh` below\n",
    "\n",
    "```bash\n",
    "\n",
    "## adding codeml-2.ctl file path:\n",
    "echo '#!/bin/sh'\" \\\n",
    "\n",
    "export PATH=\\\"$(pwd):\"'$PATH'\\\"\" \\\n",
    "\n",
    "export ctl=\\\"$(pwd)/codeml-2.ctl\\\"\" >> ${CONDA_PREFIX}/etc/conda/activate.d/env_vars.sh\n",
    "\n",
    "# re-activating environment so variable and PATH changes take effect\n",
    "source activate pseudofinder\n",
    "```\n",
    "\n",
    "**Complaint 1: This really should just be in Bioconda**\n",
    "\n",
    "\n",
    "## Getting started\n",
    "\n",
    "This program needs you to give it a database of true genes (as amino acid) to compare with. I am using the wgMLST gene panel from Enterobase.\n",
    "\n",
    "```\n",
    "wget https://enterobase.warwick.ac.uk/schemes/Salmonella.wgMLST/exemplar.alleles.fasta.gz \n",
    "```\n",
    "\n",
    "These are in nucleotide, so we must convert nuc to aa. "
   ]
  },
  {
   "cell_type": "code",
   "execution_count": 1,
   "metadata": {},
   "outputs": [
    {
     "name": "stdout",
     "output_type": "stream",
     "text": [
      "Could not translate 1596 seqs \n"
     ]
    }
   ],
   "source": [
    "from Bio import SeqIO, Seq\n",
    "import gzip \n",
    "from Bio.Data.CodonTable import TranslationError \n",
    "\n",
    "gfile = gzip.open(\"exemplar.alleles.fasta.gz\", \"rt\")\n",
    "\n",
    "out_file = open('sal_alleles.faa', 'w') \n",
    "\n",
    "\n",
    "number_skip = 0 \n",
    "for record in SeqIO.parse(gfile, 'fasta'):\n",
    "    try:\n",
    "        record.seq = record.seq.translate(cds=True)\n",
    "        out_file.write(record.format(\"fasta\"))        \n",
    "    except TranslationError:\n",
    "        number_skip += 1\n",
    "print(f'Could not translate {number_skip} seqs ')\n",
    "        \n"
   ]
  },
  {
   "cell_type": "code",
   "execution_count": 2,
   "metadata": {},
   "outputs": [
    {
     "name": "stdout",
     "output_type": "stream",
     "text": [
      ">STMMW_00651_1\n",
      "MHEAQIRVAIAGAGGRMGRQLIQAAMAMEGVQLGAALEREGSSLLGSDAGELAGAGKSGV\n",
      "IVQSSLEAVKDDFDVFIDFTRPEGTLTHLAFCRQHGKGMVIGTTGFDDAGKQAIREASQE\n",
      "IAIVFAANFSVGVNVMLKLLEKAAKVMGDYSDIEIIEAHHRHKVDAPSGTALAMGEAIAG\n",
      "ALDKNLKDCAVYSREGYTGERVAGTIGFATVRAGDIVGEHTAMFADIGERVEITHKASSR\n",
      "MTFANGALRSALWLKTKKNGLFDMRDVLGLDVL\n",
      ">STMMW_00121_1\n",
      "MAKRDYYEILGVSKTAEEREIKKAYKRLAMKYHPDRNQGDKEAEAKFKEIKEAYEVLTDA\n",
      "QKRAAYDQYGHAAFEQGGMGGGFGGGFNGGADFSDIFGDVFGDIFGGGRGRQRAARGADL\n",
      "RYNMDLTLEEAVRGVTKEIRIPTLEECDVCHGSGAKAGTQPQTCPTCHGSGQVQMRQGFF\n",
      "QDALAILRNKLVVREHYLPCVLFGDDAPTEFTVGPVTFTQNAMFFRDKKSVFRHSVDINT\n",
      "NAHIKSVTSAITQGFFRENVPTPDESRKFVGEFQKRAIKIYKDYPWVASIKVTDCDEVTS\n",
      "QERAIQATELAIHIIRILLGAEPTRKIRLAWSRSNALNTAHLYSDADGVIHASVGANSLG\n",
      "PVGIINWYKALMKCDLELEILGSALLPIVNPIETNHLHQRLIDAINWFGDAATDSNPSSS\n",
      "IVKYVSAIERLFFGKFESGRTKVFAGRIKYILDAFGCDGDHQVYDQALKVYRARSILVHG\n",
      "EIYQTEDEANESICLASSLSRMCLLCSAQLYSMMQNAFDNPDALALEEIMKRIGAEGLDW\n",
      "LVDAAGFHK\n",
      ">ZV79_RS12785_1\n",
      "MKVETISYVKKNAATLDLSEPILVTQNGVPAYVIESYDQQQERENAIALLKLLTLSEKDK\n",
      "AEGRVFSKDQLLDSLED\n",
      "19466\n"
     ]
    }
   ],
   "source": [
    "!head sal_alleles.faa\n",
    "!tail sal_alleles.faa\n",
    "!cat  sal_alleles.faa | grep '>' | wc -l "
   ]
  },
  {
   "cell_type": "markdown",
   "metadata": {},
   "source": [
    "We have a gene panel of 19466 genes to play with. >:-) \n",
    "\n",
    "This needs to be made into a BLAST database."
   ]
  },
  {
   "cell_type": "code",
   "execution_count": 4,
   "metadata": {},
   "outputs": [
    {
     "name": "stdout",
     "output_type": "stream",
     "text": [
      "\n",
      "\n",
      "Building a new DB, current time: 07/13/2022 08:31:25\n",
      "New DB name:   /home/ubuntu/code/journal/pseudo/sal_alleles.faa\n",
      "New DB title:  sal_alleles.faa\n",
      "Sequence type: Protein\n",
      "Deleted existing Protein BLAST database named /home/ubuntu/code/journal/pseudo/sal_alleles.faa\n",
      "Keep MBits: T\n",
      "Maximum file size: 1000000000B\n",
      "Adding sequences from FASTA; added 19466 sequences in 0.496576 seconds.\n",
      "\n",
      "\n"
     ]
    }
   ],
   "source": [
    "!makeblastdb -in sal_alleles.faa -dbtype prot\n",
    "!mkdir -p blastdb\n",
    "!mv sal_alleles* blastdb/\n"
   ]
  },
  {
   "cell_type": "markdown",
   "metadata": {},
   "source": [
    "# Finding a query genome \n",
    "\n",
    "We also need a genome to query. I selected THE Typhi genome (CT18; NC_003198.1) as a genbank file (gbk).  As a \"reference\" I used a Paratyphi (ATCC 9150; NC_006511.1). \n"
   ]
  },
  {
   "cell_type": "code",
   "execution_count": 3,
   "metadata": {},
   "outputs": [],
   "source": [
    "!ncbi-genome-download bacteria  -S CT18,\"ATCC 9150\" --formats fasta\n",
    "!mkdir -p input_genomes\n",
    "!zcat  refseq/bacteria/GCF_000011885.1/GCF_000011885.1_ASM1188v1_genomic.fna.gz > input_genomes/Paratyphi.ASM1188v1.fasta\n",
    "!zcat  refseq/bacteria/GCF_000195995.1/GCF_000195995.1_ASM19599v1_genomic.fna.gz > input_genomes/Typhi.ASM19599v1.fasta"
   ]
  },
  {
   "cell_type": "markdown",
   "metadata": {},
   "source": [
    "# Reannotate with Prokka\n",
    "Annoyingly pseudofinder REALLY wants to use a prokka formatted annotation. So the original annotation for these genomes (from genbank) do not work. **Complaint 2: There should be mechanism to convert old \"official\" annotations to something this program can handle**\n",
    "\n",
    "\n",
    "We must reannotate with prokka. *Remember to use `--compliant`, because of reasons!*"
   ]
  },
  {
   "cell_type": "code",
   "execution_count": null,
   "metadata": {},
   "outputs": [],
   "source": [
    "!prokka input_genomes/Typhi.ASM19599v1.fasta --outdir typhi_anno --force  --compliant\n",
    "!prokka input_genomes/Paratyphi.ASM1188v1.fasta --outdir paratyphi_anno --force  --compliant"
   ]
  },
  {
   "cell_type": "markdown",
   "metadata": {},
   "source": [
    "\n",
    "# Running pseudofinder\n",
    "\n",
    "NOW, we actually get to run the program. And enjoy all the pseudo-goodness. "
   ]
  },
  {
   "cell_type": "code",
   "execution_count": 9,
   "metadata": {},
   "outputs": [],
   "source": [
    "!mkdir -p output_fast\n",
    "!pseudofinder/pseudofinder.py annotate -g typhi_anno/PROKKA_07132022.gbk  -db blastdb/sal_alleles.faa -op fast_test\n",
    "!mv fast_test* output_fast/"
   ]
  },
  {
   "cell_type": "markdown",
   "metadata": {},
   "source": [
    "The output log shows:\n",
    "```\n",
    "#Input:\n",
    "Initial ORFs:\t5052\n",
    "Initial pseudogenes:\t0\n",
    "Number of contigs:\t3\n",
    "#Output:\n",
    "Inital ORFs joined:\t380\n",
    "Pseudogenes (total):\t631\n",
    "Pseudogenes (too short):\t176\n",
    "Pseudogenes (too long):\t154\n",
    "Pseudogenes (fragmented):\t275\n",
    "Pseudogenes (no predicted ORF):\t26\n",
    "Pseudogenes (high dN/dS):\t0\n",
    "Pseudogenes (frameshift):\t0\n",
    "Pseudogenes (missing start codon):\t0\n",
    "Pseudogenes (missing stop codon):\t0\n",
    "Pseudogenes (internal stop codon):\t0\n",
    "Pseudogenes (multiple issues):\t0\n",
    "Intact genes:\t4342\n",
    "```\n",
    "\n",
    "This is higher than I expected, the literature (https://www.ncbi.nlm.nih.gov/pmc/articles/PMC2652037/) reports; \n",
    "\n",
    "> CT18 and Ty2 each contain ~200 pseudogenes defined as genes that are putatively inactivated by mutations including nonsense SNPs, frameshifts and truncation by deletion or rearrangement. This constitutes 4.5% of Typhi genes, much higher than the frequency in Typhimurium (0.9%) or Escherichia coli K12 (0.7%). \n",
    "\n"
   ]
  },
  {
   "cell_type": "markdown",
   "metadata": {},
   "source": [
    "# Running pseudofinder with selection included\n",
    "\n",
    "The advanced mode using a reference genome to look at selection.\n",
    "\n"
   ]
  },
  {
   "cell_type": "code",
   "execution_count": null,
   "metadata": {},
   "outputs": [
    {
     "name": "stdout",
     "output_type": "stream",
     "text": [
      "\u001b[1m2022-07-13 09:15:55\u001b[0m\tCDS extracted from:\t\t\ttyphi_anno/PROKKA_07132022.gbk\n",
      "\t\t\tWritten to file:\t\t\tfull_test_cds.fasta.\n",
      "\u001b[1m2022-07-13 09:15:55\u001b[0m\tIntergenic regions extracted from:\ttyphi_anno/PROKKA_07132022.gbk\n",
      "\t\t\tWritten to file:\t\t\tfull_test_intergenic.fasta.\n",
      "\u001b[1m2022-07-13 09:15:55\u001b[0m\tblastp executed with 4 threads on full_test_proteome.faa.\n"
     ]
    }
   ],
   "source": [
    "!mkdir -p output_full\n",
    "!pseudofinder/pseudofinder.py annotate -g typhi_anno/PROKKA_07132022.gbk  --reference paratyphi_anno/PROKKA_07132022.gbk -db blastdb/sal_alleles.faa -op full_test \n",
    "!mv full_test* output_full/"
   ]
  },
  {
   "cell_type": "code",
   "execution_count": null,
   "metadata": {},
   "outputs": [],
   "source": []
  }
 ],
 "metadata": {
  "kernelspec": {
   "display_name": "Python 3 (ipykernel)",
   "language": "python",
   "name": "python3"
  },
  "language_info": {
   "codemirror_mode": {
    "name": "ipython",
    "version": 3
   },
   "file_extension": ".py",
   "mimetype": "text/x-python",
   "name": "python",
   "nbconvert_exporter": "python",
   "pygments_lexer": "ipython3",
   "version": "3.10.2"
  },
  "vscode": {
   "interpreter": {
    "hash": "a631ff847fd0aa4c0f55b3f5c6aa7eac04a053e94f5312304ea9abc4a7cae5f6"
   }
  }
 },
 "nbformat": 4,
 "nbformat_minor": 2
}
